{
 "cells": [
  {
   "cell_type": "code",
   "execution_count": 3,
   "metadata": {},
   "outputs": [
    {
     "name": "stderr",
     "output_type": "stream",
     "text": [
      "C:\\Users\\Luis\\Anaconda3\\lib\\site-packages\\pydub\\utils.py:165: RuntimeWarning: Couldn't find ffmpeg or avconv - defaulting to ffmpeg, but may not work\n",
      "  warn(\"Couldn't find ffmpeg or avconv - defaulting to ffmpeg, but may not work\", RuntimeWarning)\n",
      "C:\\Users\\Luis\\Anaconda3\\lib\\site-packages\\pydub\\utils.py:178: RuntimeWarning: Couldn't find ffplay or avplay - defaulting to ffplay, but may not work\n",
      "  warn(\"Couldn't find ffplay or avplay - defaulting to ffplay, but may not work\", RuntimeWarning)\n"
     ]
    }
   ],
   "source": [
    "from pydub import AudioSegment\n",
    "from pydub.playback import play\n",
    "import re"
   ]
  },
  {
   "cell_type": "code",
   "execution_count": 4,
   "metadata": {
    "collapsed": true
   },
   "outputs": [],
   "source": [
    "#list of stings to pass into Speak()\n",
    "#open a wav format\n",
    "\n",
    "def Speak(pList):\n",
    "    pause = AudioSegment.from_wav(r\"Phonetic Sounds v2/SPC.wav\", \"rb\")\n",
    "    letterPair = []\n",
    "    for f in pList:\n",
    "        print(f)\n",
    "        #USES \"SPC\" for a space between words\n",
    "        if f != 'SPC':\n",
    "            letterPair.append(f)\n",
    "        # print(letterPair, len(letterPair))\n",
    "        if f == 'SPC':\n",
    "            print(\"this is said:\", letterPair)\n",
    "            combined_word = AudioSegment.empty()\n",
    "            # create dictionary of audio files\n",
    "            for ph in letterPair:\n",
    "                combined_word += AudioSegment.from_wav(r\"Phonetic Sounds v2/\" + ph + \".wav\", \"rb\")\n",
    "\n",
    "            play(combined_word)\n",
    "            play(pause)\n",
    "\n",
    "            letterPair.clear()\n",
    "\n",
    "# public functions to access text to speech\n",
    "def sayThis(list):\n",
    "    Speak(list)"
   ]
  },
  {
   "cell_type": "code",
   "execution_count": 6,
   "metadata": {},
   "outputs": [],
   "source": [
    "# Translate each word into a phonetic spelling\n",
    "cmu_dict = open('Dataset_v1/cmudict.dict', \"r\")\n",
    "\n",
    "# conv the dict into a string to regex over it\n",
    "dictString = cmu_dict.read()\n",
    "# close dictionary\n",
    "cmu_dict.close()\n",
    "\n",
    "def wordsToPhonetics(test):\n",
    "    # parse through text converting to arpabet\n",
    "    seg_test = test.split(\" \")\n",
    "    # contain content for sentence given to phonetics\n",
    "    wordsToPhonetic = {}\n",
    "\n",
    "    \n",
    "    # For each word in the given sentence find its phonetic spelling\n",
    "    for word in seg_test:\n",
    "    \n",
    "        # word to regex\n",
    "        wordRex =  '\\\\n' + word.lower() + '\\s(.*)'\n",
    "        p = re.compile(wordRex)\n",
    "        # search in dictionary\n",
    "        matchedObj = re.search(p, dictString)\n",
    "        if (matchedObj == None):\n",
    "            break\n",
    "        # add phonetic to dictionary, with word as key\n",
    "        wordsToPhonetic[word] = matchedObj.group(1)\n",
    "    \n",
    "    # return value\n",
    "    return wordsToPhonetic"
   ]
  },
  {
   "cell_type": "code",
   "execution_count": 7,
   "metadata": {
    "collapsed": true
   },
   "outputs": [],
   "source": [
    "# Function call to translate a sentence into phonetic\n",
    "# the computer says the phonetic\n",
    "def talk():\n",
    "    ans = input(\">>\")\n",
    "    dict = wordsToPhonetics(ans)\n",
    "\n",
    "    combPhonetics = []\n",
    "    for word, phonetic in dict.items():\n",
    "        splitted = phonetic.split(\" \")\n",
    "        for ph in splitted:\n",
    "            combPhonetics.append(ph)\n",
    "\n",
    "        combPhonetics.append(\"SPC\")\n",
    "\n",
    "    sayThis(combPhonetics)"
   ]
  },
  {
   "cell_type": "code",
   "execution_count": null,
   "metadata": {
    "collapsed": true
   },
   "outputs": [],
   "source": []
  }
 ],
 "metadata": {
  "kernelspec": {
   "display_name": "Python 3",
   "language": "python",
   "name": "python3"
  },
  "language_info": {
   "codemirror_mode": {
    "name": "ipython",
    "version": 3
   },
   "file_extension": ".py",
   "mimetype": "text/x-python",
   "name": "python",
   "nbconvert_exporter": "python",
   "pygments_lexer": "ipython3",
   "version": "3.6.3"
  }
 },
 "nbformat": 4,
 "nbformat_minor": 2
}
